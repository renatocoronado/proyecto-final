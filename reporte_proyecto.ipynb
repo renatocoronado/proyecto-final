{
 "cells": [
  {
   "attachments": {},
   "cell_type": "markdown",
   "metadata": {},
   "source": [
    "### Proyecto Final - Ingenierìa de Datos"
   ]
  },
  {
   "attachments": {},
   "cell_type": "markdown",
   "metadata": {},
   "source": [
    "Para el proyecto se usarà informaciòn de la tienda ficticia Superstore, una cadena estadounidense que se encuentra en varios estados que ofrece una gran cantidad de productos. la tienda quiere empezar a utilizar su informaciòn para la toma de decisiones, y para esto requiere que se estructure de forma tal que permita hacerlo. Como cualquier negocio nuevo en esto, no saben exactamente por donde empezar, por lo que han contratado nuestro servicio para ayudarlos en entender lo que se tiene y como se puede utilizar.\n",
    "\n",
    "Luego de algunas reuniones se logra entender la data actual del negocio, los datos actualmente se encuentran en archivos csv separados por varias categorìas, como productos, clientes, ubicaciones, entre otros. Adicional cuentan con una tabla que tiene los registros de todas las compras. Estos archivos de dimensiones son actualizados eventualmente, pero sufren pocos cambios. El que tiene nuevos registros con màs constancia es el de clienetes. El documento con la informaciòn de las transacciones sì tiene nueva informaciòn todos los dìas.\n",
    "\n",
    "\n",
    "Evaluando varias alternativas, se decide que se utilizaràn los servicios que se encuentran disponibles en Amazon Web Services, ya que permite almacenar archivos planos, creaciòn de data bases y data warehouses y podemos conectar todo usando scripts de python.  \n",
    "\n",
    "El proyecto con la tienda Superstore, se basarà en subir todos los archivos a un bucket de S3, en diferentes carpetas segùn la naturaleza de la informaciòn, para posteriormente guardarlos en una base de datos de RDS, ya que estos estàn en primer o segunda forma normal. Luego, se haràn las transformaciones necesarias para unificar las dimensiones y se cargarà todo a un data warehouse, desde donde podremos conectar nuestra herramienta de inteligencia de negocio para empezar a responder preguntas sobre el comportamiento de nuestra informaciòn.\n",
    "\n",
    "El negocio principalmente quiere saber lo siguiente:\n",
    "\n",
    "1. En dònde en el paìs se genera la mayor ganancia, para enfocarse en no descuidar esas àreas\n",
    "2. Què segmento de cliente es el que menos compra, para pensar en una campaña enfocada en ganar ese mercado\n",
    "3. En què meses del año la demanda de productos es mayor, para anticipar el tema de inventarios\n",
    "4. Los descuentos que se dan segùn el tipo de envio realizado, para no restar margen a los envìos que màs cuestan a la empresa\n",
    "5. Evaluar si los productos que màs se venden, son los que màs ganancias generan"
   ]
  },
  {
   "attachments": {},
   "cell_type": "markdown",
   "metadata": {},
   "source": [
    "##### Dentro de AWS"
   ]
  },
  {
   "attachments": {},
   "cell_type": "markdown",
   "metadata": {},
   "source": [
    "Ya en AWS, se puede observar que la informaciòn quedò guardada de la siguiente forma:"
   ]
  },
  {
   "attachments": {},
   "cell_type": "markdown",
   "metadata": {},
   "source": [
    "Archivos en bucket de S3\n",
    "\n",
    "<img src=\"imagen_1.png\">"
   ]
  },
  {
   "attachments": {},
   "cell_type": "markdown",
   "metadata": {},
   "source": [
    "Bases de datos en RDS\n",
    "\n",
    "<img src=\"imagen_2.png\">"
   ]
  },
  {
   "attachments": {},
   "cell_type": "markdown",
   "metadata": {},
   "source": [
    "##### Dentro del Gestor para bases de datos"
   ]
  },
  {
   "attachments": {},
   "cell_type": "markdown",
   "metadata": {},
   "source": [
    "Se utilizò DBeaver como gestor de base de datos"
   ]
  },
  {
   "attachments": {},
   "cell_type": "markdown",
   "metadata": {},
   "source": [
    "Base de datos\n",
    "\n",
    "<img src=\"imagen_3.png\">"
   ]
  },
  {
   "attachments": {},
   "cell_type": "markdown",
   "metadata": {},
   "source": [
    "Data Warehouse\n",
    "\n",
    "<img src=\"imagen_4.png\">"
   ]
  },
  {
   "attachments": {},
   "cell_type": "markdown",
   "metadata": {},
   "source": [
    "##### Respondiendo las preguntas del negocio"
   ]
  },
  {
   "cell_type": "code",
   "execution_count": 2,
   "metadata": {},
   "outputs": [],
   "source": [
    "# carga de librerias\n",
    "\n",
    "import pandas as pd\n",
    "import numpy as np\n",
    "import boto3\n",
    "import psycopg2\n",
    "import configparser\n",
    "import io\n",
    "from sqlalchemy import create_engine\n",
    "import pymysql"
   ]
  },
  {
   "cell_type": "code",
   "execution_count": 3,
   "metadata": {},
   "outputs": [
    {
     "data": {
      "text/plain": [
       "['credenciales_proyecto.cfg']"
      ]
     },
     "execution_count": 3,
     "metadata": {},
     "output_type": "execute_result"
    }
   ],
   "source": [
    "# cargar archivos de configuraciones\n",
    "\n",
    "config = configparser.ConfigParser()\n",
    "config.read(\"credenciales_proyecto.cfg\")"
   ]
  },
  {
   "cell_type": "code",
   "execution_count": 4,
   "metadata": {},
   "outputs": [],
   "source": [
    "# crear driver\n",
    "\n",
    "mysql_driver = f\"\"\"mysql+pymysql://{config.get('RDS_MYSQL', 'DB_USER')}:{config.get('RDS_MYSQL', 'DB_PASSWORD')}@{config.get('RDS_MYSQL', 'DB_HOST')}:{config.get('RDS_MYSQL', 'DB_PORT')}/{config.get('RDS_MYSQL', 'DB_NAME')}\"\"\""
   ]
  },
  {
   "cell_type": "code",
   "execution_count": 6,
   "metadata": {},
   "outputs": [],
   "source": [
    "# importar las tablas del data warehouse y guardarlas en dataframes\n",
    "\n",
    "sql_query_retail_sales_fact = \"SELECT * FROM retail_sales_fact;\"\n",
    "df_retail_sales_fact = pd.read_sql(sql_query_retail_sales_fact, mysql_driver)\n",
    "\n",
    "sql_query_product_dimension = \"SELECT * FROM product_dimension;\"\n",
    "df_product_dimension = pd.read_sql(sql_query_product_dimension, mysql_driver)\n",
    "\n",
    "sql_query_customer_dimension = \"SELECT * FROM customer_dimension;\"\n",
    "df_customer_dimension = pd.read_sql(sql_query_customer_dimension, mysql_driver)\n",
    "\n",
    "sql_query_ship_mode = \"SELECT * FROM ship_mode;\"\n",
    "df_ship_mode = pd.read_sql(sql_query_ship_mode, mysql_driver)\n",
    "\n",
    "sql_query_location_dimension = \"SELECT * FROM location_dimension;\"\n",
    "df_location_dimension = pd.read_sql(sql_query_location_dimension, mysql_driver)\n",
    "\n",
    "sql_query_date_dimension = \"SELECT * FROM date_dimension;\"\n",
    "df_date_dimension = pd.read_sql(sql_query_date_dimension, mysql_driver)\n"
   ]
  },
  {
   "attachments": {},
   "cell_type": "markdown",
   "metadata": {},
   "source": [
    "##### Pregunta 1\n",
    "\n",
    "En donde en el paìs se genera la mayor ganancia"
   ]
  },
  {
   "cell_type": "code",
   "execution_count": 13,
   "metadata": {},
   "outputs": [],
   "source": [
    "df_pregunta_1 = (\n",
    "    df_retail_sales_fact.merge(df_location_dimension, on=\"location_key\", how=\"inner\")[\n",
    "        [\"city\", \"profit\"]\n",
    "    ]\n",
    "    .groupby(\"city\")\n",
    "    .sum(\"profit\")\n",
    "    .sort_values(\"profit\", ascending=False)\n",
    ")"
   ]
  },
  {
   "cell_type": "code",
   "execution_count": 14,
   "metadata": {},
   "outputs": [
    {
     "data": {
      "text/html": [
       "<div>\n",
       "<style scoped>\n",
       "    .dataframe tbody tr th:only-of-type {\n",
       "        vertical-align: middle;\n",
       "    }\n",
       "\n",
       "    .dataframe tbody tr th {\n",
       "        vertical-align: top;\n",
       "    }\n",
       "\n",
       "    .dataframe thead th {\n",
       "        text-align: right;\n",
       "    }\n",
       "</style>\n",
       "<table border=\"1\" class=\"dataframe\">\n",
       "  <thead>\n",
       "    <tr style=\"text-align: right;\">\n",
       "      <th></th>\n",
       "      <th>profit</th>\n",
       "    </tr>\n",
       "    <tr>\n",
       "      <th>city</th>\n",
       "      <th></th>\n",
       "    </tr>\n",
       "  </thead>\n",
       "  <tbody>\n",
       "    <tr>\n",
       "      <th>New York City</th>\n",
       "      <td>62036.86</td>\n",
       "    </tr>\n",
       "    <tr>\n",
       "      <th>Los Angeles</th>\n",
       "      <td>30440.67</td>\n",
       "    </tr>\n",
       "    <tr>\n",
       "      <th>Seattle</th>\n",
       "      <td>29156.08</td>\n",
       "    </tr>\n",
       "    <tr>\n",
       "      <th>San Francisco</th>\n",
       "      <td>17507.30</td>\n",
       "    </tr>\n",
       "    <tr>\n",
       "      <th>Detroit</th>\n",
       "      <td>13181.77</td>\n",
       "    </tr>\n",
       "    <tr>\n",
       "      <th>...</th>\n",
       "      <td>...</td>\n",
       "    </tr>\n",
       "    <tr>\n",
       "      <th>Chicago</th>\n",
       "      <td>-6654.63</td>\n",
       "    </tr>\n",
       "    <tr>\n",
       "      <th>Lancaster</th>\n",
       "      <td>-7239.08</td>\n",
       "    </tr>\n",
       "    <tr>\n",
       "      <th>San Antonio</th>\n",
       "      <td>-7299.07</td>\n",
       "    </tr>\n",
       "    <tr>\n",
       "      <th>Houston</th>\n",
       "      <td>-10153.58</td>\n",
       "    </tr>\n",
       "    <tr>\n",
       "      <th>Philadelphia</th>\n",
       "      <td>-13837.85</td>\n",
       "    </tr>\n",
       "  </tbody>\n",
       "</table>\n",
       "<p>531 rows × 1 columns</p>\n",
       "</div>"
      ],
      "text/plain": [
       "                 profit\n",
       "city                   \n",
       "New York City  62036.86\n",
       "Los Angeles    30440.67\n",
       "Seattle        29156.08\n",
       "San Francisco  17507.30\n",
       "Detroit        13181.77\n",
       "...                 ...\n",
       "Chicago        -6654.63\n",
       "Lancaster      -7239.08\n",
       "San Antonio    -7299.07\n",
       "Houston       -10153.58\n",
       "Philadelphia  -13837.85\n",
       "\n",
       "[531 rows x 1 columns]"
      ]
     },
     "execution_count": 14,
     "metadata": {},
     "output_type": "execute_result"
    }
   ],
   "source": [
    "df_pregunta_1"
   ]
  },
  {
   "attachments": {},
   "cell_type": "markdown",
   "metadata": {},
   "source": [
    "Se carga la informaciòn en una herramienta de visualizaciòn para una mejor exploraciòn, vemos que Nueva York, los Angeles y Seattle son las ciudades que màs ganancia nos dan\n",
    "\n",
    "<img src=\"imagen_5.png\">"
   ]
  },
  {
   "attachments": {},
   "cell_type": "markdown",
   "metadata": {},
   "source": [
    "##### Pregunta 2\n",
    "\n",
    "Què segmento de cliente es el que menos compra"
   ]
  },
  {
   "cell_type": "code",
   "execution_count": 16,
   "metadata": {},
   "outputs": [],
   "source": [
    "df_pregunta_2 = (\n",
    "    df_retail_sales_fact.merge(df_customer_dimension, on=\"customer_key\", how=\"inner\")[\n",
    "        [\"segment\", \"sales\"]\n",
    "    ]\n",
    "    .groupby(\"segment\")\n",
    "    .sum(\"sales\")\n",
    "    .sort_values(\"sales\", ascending=True)\n",
    ")"
   ]
  },
  {
   "cell_type": "code",
   "execution_count": 17,
   "metadata": {},
   "outputs": [
    {
     "data": {
      "text/html": [
       "<div>\n",
       "<style scoped>\n",
       "    .dataframe tbody tr th:only-of-type {\n",
       "        vertical-align: middle;\n",
       "    }\n",
       "\n",
       "    .dataframe tbody tr th {\n",
       "        vertical-align: top;\n",
       "    }\n",
       "\n",
       "    .dataframe thead th {\n",
       "        text-align: right;\n",
       "    }\n",
       "</style>\n",
       "<table border=\"1\" class=\"dataframe\">\n",
       "  <thead>\n",
       "    <tr style=\"text-align: right;\">\n",
       "      <th></th>\n",
       "      <th>sales</th>\n",
       "    </tr>\n",
       "    <tr>\n",
       "      <th>segment</th>\n",
       "      <th></th>\n",
       "    </tr>\n",
       "  </thead>\n",
       "  <tbody>\n",
       "    <tr>\n",
       "      <th>Home Office</th>\n",
       "      <td>429653.19</td>\n",
       "    </tr>\n",
       "    <tr>\n",
       "      <th>Corporate</th>\n",
       "      <td>706146.36</td>\n",
       "    </tr>\n",
       "    <tr>\n",
       "      <th>Consumer</th>\n",
       "      <td>1161401.23</td>\n",
       "    </tr>\n",
       "  </tbody>\n",
       "</table>\n",
       "</div>"
      ],
      "text/plain": [
       "                  sales\n",
       "segment                \n",
       "Home Office   429653.19\n",
       "Corporate     706146.36\n",
       "Consumer     1161401.23"
      ]
     },
     "execution_count": 17,
     "metadata": {},
     "output_type": "execute_result"
    }
   ],
   "source": [
    "df_pregunta_2"
   ]
  },
  {
   "attachments": {},
   "cell_type": "markdown",
   "metadata": {},
   "source": [
    "Vemos que el segmento de Home Office son los clientes que menos nos compran\n",
    "\n",
    "<img src=\"imagen_6_1.png\">"
   ]
  },
  {
   "attachments": {},
   "cell_type": "markdown",
   "metadata": {},
   "source": [
    "##### Pregunta 3\n",
    "\n",
    "En què meses del año la demanda es mayor de productos"
   ]
  },
  {
   "cell_type": "code",
   "execution_count": 23,
   "metadata": {},
   "outputs": [],
   "source": [
    "df_pregunta_3 = (\n",
    "    df_retail_sales_fact.merge(df_date_dimension, on=\"date_key\", how=\"inner\")[\n",
    "        [\"month_\", \"month_name\", \"quantity\"]\n",
    "    ]\n",
    "    .groupby([\"month_\", \"month_name\"])\n",
    "    .sum(\"quantity\")\n",
    "    .sort_values(\"quantity\", ascending=False)\n",
    ")"
   ]
  },
  {
   "cell_type": "code",
   "execution_count": 24,
   "metadata": {},
   "outputs": [
    {
     "data": {
      "text/html": [
       "<div>\n",
       "<style scoped>\n",
       "    .dataframe tbody tr th:only-of-type {\n",
       "        vertical-align: middle;\n",
       "    }\n",
       "\n",
       "    .dataframe tbody tr th {\n",
       "        vertical-align: top;\n",
       "    }\n",
       "\n",
       "    .dataframe thead th {\n",
       "        text-align: right;\n",
       "    }\n",
       "</style>\n",
       "<table border=\"1\" class=\"dataframe\">\n",
       "  <thead>\n",
       "    <tr style=\"text-align: right;\">\n",
       "      <th></th>\n",
       "      <th></th>\n",
       "      <th>quantity</th>\n",
       "    </tr>\n",
       "    <tr>\n",
       "      <th>month_</th>\n",
       "      <th>month_name</th>\n",
       "      <th></th>\n",
       "    </tr>\n",
       "  </thead>\n",
       "  <tbody>\n",
       "    <tr>\n",
       "      <th>11</th>\n",
       "      <th>November</th>\n",
       "      <td>5775</td>\n",
       "    </tr>\n",
       "    <tr>\n",
       "      <th>12</th>\n",
       "      <th>December</th>\n",
       "      <td>5419</td>\n",
       "    </tr>\n",
       "    <tr>\n",
       "      <th>9</th>\n",
       "      <th>September</th>\n",
       "      <td>5062</td>\n",
       "    </tr>\n",
       "    <tr>\n",
       "      <th>10</th>\n",
       "      <th>October</th>\n",
       "      <td>3104</td>\n",
       "    </tr>\n",
       "    <tr>\n",
       "      <th>5</th>\n",
       "      <th>May</th>\n",
       "      <td>2791</td>\n",
       "    </tr>\n",
       "    <tr>\n",
       "      <th>8</th>\n",
       "      <th>August</th>\n",
       "      <td>2784</td>\n",
       "    </tr>\n",
       "    <tr>\n",
       "      <th>7</th>\n",
       "      <th>July</th>\n",
       "      <td>2705</td>\n",
       "    </tr>\n",
       "    <tr>\n",
       "      <th>6</th>\n",
       "      <th>June</th>\n",
       "      <td>2680</td>\n",
       "    </tr>\n",
       "    <tr>\n",
       "      <th>3</th>\n",
       "      <th>March</th>\n",
       "      <td>2564</td>\n",
       "    </tr>\n",
       "    <tr>\n",
       "      <th>4</th>\n",
       "      <th>April</th>\n",
       "      <td>2447</td>\n",
       "    </tr>\n",
       "    <tr>\n",
       "      <th>1</th>\n",
       "      <th>January</th>\n",
       "      <td>1475</td>\n",
       "    </tr>\n",
       "    <tr>\n",
       "      <th>2</th>\n",
       "      <th>February</th>\n",
       "      <td>1067</td>\n",
       "    </tr>\n",
       "  </tbody>\n",
       "</table>\n",
       "</div>"
      ],
      "text/plain": [
       "                   quantity\n",
       "month_ month_name          \n",
       "11     November        5775\n",
       "12     December        5419\n",
       "9      September       5062\n",
       "10     October         3104\n",
       "5      May             2791\n",
       "8      August          2784\n",
       "7      July            2705\n",
       "6      June            2680\n",
       "3      March           2564\n",
       "4      April           2447\n",
       "1      January         1475\n",
       "2      February        1067"
      ]
     },
     "execution_count": 24,
     "metadata": {},
     "output_type": "execute_result"
    }
   ],
   "source": [
    "df_pregunta_3"
   ]
  },
  {
   "attachments": {},
   "cell_type": "markdown",
   "metadata": {},
   "source": [
    "Con ayuda de la gràfica identificamos que noviembre, diciembre y septiembre son los meses que màs unidades de nuestros productos se compran\n",
    "\n",
    "<img src=\"imagen_7.png\">"
   ]
  },
  {
   "attachments": {},
   "cell_type": "markdown",
   "metadata": {},
   "source": [
    "##### Pregunta 4\n",
    "\n",
    "Descuentos que se dan segùn tipo de envìò realizado"
   ]
  },
  {
   "cell_type": "code",
   "execution_count": null,
   "metadata": {},
   "outputs": [],
   "source": []
  },
  {
   "attachments": {},
   "cell_type": "markdown",
   "metadata": {},
   "source": [
    "##### Pregunta 5\n",
    "\n",
    "Evaluar si los productos que màs se venden son los que màs ganancia dejan"
   ]
  }
 ],
 "metadata": {
  "kernelspec": {
   "display_name": "Python 3",
   "language": "python",
   "name": "python3"
  },
  "language_info": {
   "codemirror_mode": {
    "name": "ipython",
    "version": 3
   },
   "file_extension": ".py",
   "mimetype": "text/x-python",
   "name": "python",
   "nbconvert_exporter": "python",
   "pygments_lexer": "ipython3",
   "version": "3.10.5"
  },
  "orig_nbformat": 4
 },
 "nbformat": 4,
 "nbformat_minor": 2
}
